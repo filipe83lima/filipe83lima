{
  "nbformat": 4,
  "nbformat_minor": 0,
  "metadata": {
    "colab": {
      "name": "JOKENPO.ipynb",
      "provenance": [],
      "collapsed_sections": [],
      "authorship_tag": "ABX9TyN2P4NPWaL1OIgsLKUePz9c",
      "include_colab_link": true
    },
    "kernelspec": {
      "name": "python3",
      "display_name": "Python 3"
    },
    "language_info": {
      "name": "python"
    }
  },
  "cells": [
    {
      "cell_type": "markdown",
      "metadata": {
        "id": "view-in-github",
        "colab_type": "text"
      },
      "source": [
        "<a href=\"https://colab.research.google.com/github/filipe83lima/filipe83lima/blob/main/JOKENPO.ipynb\" target=\"_parent\"><img src=\"https://colab.research.google.com/assets/colab-badge.svg\" alt=\"Open In Colab\"/></a>"
      ]
    },
    {
      "cell_type": "code",
      "metadata": {
        "id": "X32KO1cNnYGU"
      },
      "source": [
        "from random import randint\n",
        "from time import sleep\n",
        "itens = ('Pedra', 'Papel', 'Tesoura')\n",
        "computador = randint(0, 2)\n",
        "print('''Suas opções: \n",
        "[ 0 ] PEDRA\n",
        "[ 1 ] PAPEL\n",
        "[ 2 ] TESOURA''')\n",
        "jogador = int(input('Qual é a sua jogada?'))\n",
        "print('JO')\n",
        "sleep(1)\n",
        "print('KEN')\n",
        "sleep(1)\n",
        "print('PO!!!')\n",
        "print('-=' * 11)\n",
        "print('Computador jogou {}' .format(itens[computador]))\n",
        "print('jogador jogou {}' .format(itens[jogador]))\n",
        "print('-=' * 11)\n",
        "if computador == 0:\n",
        "  if jogador == 0:\n",
        "    print('EMPATE')\n",
        "  elif jogador == 1:\n",
        "    print('JOGADOR VENCE')\n",
        "  elif jogador == 2:\n",
        "    print('COMPUTADOR VENCE')\n",
        "  else:\n",
        "    print('JOGADA INVÁLIDA')\n",
        "elif computador == 1:\n",
        "  if jogador == 0:\n",
        "    print('COMPUTADOR VENCE')\n",
        "  elif jogador == 1:\n",
        "    print('EMPATE')\n",
        "  elif jogador == 2:\n",
        "    print('JOGADOR VENCE')\n",
        "  else:\n",
        "    print('JOGADA INVÁLIDA')\n",
        "elif computador == 2:\n",
        "  if jogador == 0:\n",
        "    print('JOGADOR VENCE')\n",
        "  elif jogador == 1:\n",
        "    print('JOGADOR PERDE')\n",
        "  elif jogador == 2:\n",
        "    print('EMPATE')\n",
        "  else:\n",
        "    print('JOGADA INVÁLIDA')"
      ],
      "execution_count": null,
      "outputs": []
    }
  ]
}