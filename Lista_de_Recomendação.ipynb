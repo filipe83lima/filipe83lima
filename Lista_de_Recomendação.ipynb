{
  "nbformat": 4,
  "nbformat_minor": 0,
  "metadata": {
    "colab": {
      "name": "Lista de Recomendação.ipynb",
      "provenance": [],
      "authorship_tag": "ABX9TyOO2XPX586h9bK04Z1RPfrK",
      "include_colab_link": true
    },
    "kernelspec": {
      "name": "python3",
      "display_name": "Python 3"
    },
    "language_info": {
      "name": "python"
    }
  },
  "cells": [
    {
      "cell_type": "markdown",
      "metadata": {
        "id": "view-in-github",
        "colab_type": "text"
      },
      "source": [
        "<a href=\"https://colab.research.google.com/github/filipe83lima/filipe83lima/blob/main/Lista_de_Recomenda%C3%A7%C3%A3o.ipynb\" target=\"_parent\"><img src=\"https://colab.research.google.com/assets/colab-badge.svg\" alt=\"Open In Colab\"/></a>"
      ]
    },
    {
      "cell_type": "code",
      "metadata": {
        "colab": {
          "base_uri": "https://localhost:8080/"
        },
        "id": "X-y2Ph6NcIwb",
        "outputId": "f5400079-4d81-47db-be9e-87ee6a44c661"
      },
      "source": [
        "nome = input(\"Como gostaria de ser chamado(a)\")\n",
        "categorias = [\"Wordpress\",\n",
        "              \"Criação de Site\",\n",
        "              \"E-commerce\",\n",
        "              \"Marketing Digital\",\n",
        "              \"Vendas\",\n",
        "              \"Google Ads\",\n",
        "              \"Design\",\n",
        "              \"Negócios\",\n",
        "              \"Youtube\",\n",
        "              \"Criação de Conteúdo\",\n",
        "              \"Programação\"]            \n",
        "for i in range(len(categorias)):\n",
        "  print(f\"{i}. {categorias[i]}\")\n",
        "\n",
        "num_das_categorias = input(\"Digite o número dos assuntos de seu interesse(separe por virgulas):\\n\")\n",
        "\n",
        "tempo = float(input(\"Quanto tempo gostaria de estudar? (min)\\n\"))\n",
        "\n",
        "mostrar_premium = input(\"Mostrar cursos Premium (S/N)?\")"
      ],
      "execution_count": null,
      "outputs": [
        {
          "name": "stdout",
          "output_type": "stream",
          "text": [
            "Como gostaria de ser chamado(a)Lipe\n",
            "0. Wordpress\n",
            "1. Criação de Site\n",
            "2. E-commerce\n",
            "3. Marketing Digital\n",
            "4. Vendas\n",
            "5. Google Ads\n",
            "6. Design\n",
            "7. Negócios\n",
            "8. Youtube\n",
            "9. Criação de Conteúdo\n",
            "10. Programação\n",
            "Digite o número dos assuntos de seu interesse(separe por virgulas):\n",
            "0,9,5,3\n",
            "Quanto tempo gostaria de estudar? (min)\n",
            "400\n",
            "Mostrar cursos Premium (S/N)?s\n"
          ]
        }
      ]
    },
    {
      "cell_type": "code",
      "metadata": {
        "colab": {
          "base_uri": "https://localhost:8080/"
        },
        "id": "X6Np1RyucPNX",
        "outputId": "20f7a6b7-08f3-49d3-b106-f167d5be88b2"
      },
      "source": [
        "#resolver problema \n",
        "print(type(nome))\n",
        "print(type(num_das_categorias))\n",
        "print(type(tempo))\n",
        "print(type(mostrar_premium))\n",
        "\n",
        "if mostrar_premium == \"N\" or mostrar_premium == \"n\":\n",
        "  mostrar_premium = False\n",
        "\n",
        "elif mostrar_premium == \"S\" or mostrar_premium == \"s\":\n",
        "  mostrar_premium = True\n",
        "\n",
        "num_das_categorias = num_das_categorias.split(\",\")\n",
        "ncategorias = []\n",
        "for elemento in num_das_categorias:\n",
        "  numero = int(elemento.strip())\n",
        "  ncategorias.append(numero)\n",
        "\n",
        "print(ncategorias)"
      ],
      "execution_count": null,
      "outputs": [
        {
          "output_type": "stream",
          "name": "stdout",
          "text": [
            "<class 'str'>\n",
            "<class 'str'>\n",
            "<class 'float'>\n",
            "<class 'str'>\n",
            "[0, 9, 5, 3]\n"
          ]
        }
      ]
    },
    {
      "cell_type": "code",
      "metadata": {
        "colab": {
          "base_uri": "https://localhost:8080/"
        },
        "id": "GjmwWC-QcRPf",
        "outputId": "b5de64d8-5bfe-4eb2-b711-624852e73d83"
      },
      "source": [
        "print(f\"nome: {nome}\")\n",
        "print(f\"ID das Categorias: {ncategorias}\")\n",
        "print(f\"Tempo: {tempo}\")\n",
        "print(f\"Mostrar_premium: {mostrar_premium}\")"
      ],
      "execution_count": null,
      "outputs": [
        {
          "output_type": "stream",
          "name": "stdout",
          "text": [
            "nome: Lipe\n",
            "ID das Categorias: [0, 9, 5, 3]\n",
            "Tempo: 400.0\n",
            "Mostrar_premium: True\n"
          ]
        }
      ]
    },
    {
      "cell_type": "code",
      "metadata": {
        "id": "1l0O72x_cTcR"
      },
      "source": [
        "cursos = [\"Wordpress\",\n",
        "              \"Criação de Site\",\n",
        "              \"E-commerce\",\n",
        "              \"Marketing Digital\",\n",
        "              \"Vendas\",\n",
        "              \"Google Ads\",\n",
        "              \"Design\",\n",
        "              \"Negócios\",\n",
        "              \"Youtube\",\n",
        "              \"Criação de Conteúdo\",\n",
        "              \"Programação\"]  \n",
        "\n",
        "tempos = [95,\n",
        "          25,\n",
        "          35,\n",
        "          85,\n",
        "          75,\n",
        "          150,\n",
        "          140,\n",
        "          120,\n",
        "          85,\n",
        "          335,\n",
        "          160]\n",
        "\n",
        "categorias_do_curso = [\n",
        "  ['wordpress', 'criação de sites'],\n",
        "  ['criação de sites'],\n",
        "  ['e-commerce', 'criação de sites', 'wordpress'],\n",
        "  ['marketing digital', 'vendas'],\n",
        "  ['marketing digital', 'vendas', 'google ads', 'negócios'],\n",
        "  ['marketing digital', 'google ads'],\n",
        "  ['e-commerce', 'vendas', 'negócios'],\n",
        "  ['design', 'negócios'],\n",
        "  ['youtube', 'criação de conteúdo'],\n",
        "  ['marketing digital', 'google ads', 'youtube'],\n",
        "  ['programação', 'wordpress']\n",
        "]\n",
        "\n",
        "\n",
        "gratuidade = [True,\n",
        "              True,\n",
        "              False,\n",
        "              True,\n",
        "              False,\n",
        "              True,\n",
        "              True,\n",
        "              True,\n",
        "              True,\n",
        "              False,\n",
        "              True,]"
      ],
      "execution_count": null,
      "outputs": []
    },
    {
      "cell_type": "code",
      "metadata": {
        "colab": {
          "base_uri": "https://localhost:8080/"
        },
        "id": "xB30_YdVcZyu",
        "outputId": "a58e2c81-e866-484b-f80c-259254b994c2"
      },
      "source": [
        "# Categorias selecionadas\n",
        "categorias_selecionadas = []\n",
        "for n in ncategorias:\n",
        "  categorias_selecionadas.append(categorias[n].upper () )\n",
        "\n",
        "print(categorias_selecionadas)"
      ],
      "execution_count": null,
      "outputs": [
        {
          "output_type": "stream",
          "name": "stdout",
          "text": [
            "['WORDPRESS', 'CRIAÇÃO DE CONTEÚDO', 'GOOGLE ADS', 'MARKETING DIGITAL']\n"
          ]
        }
      ]
    },
    {
      "cell_type": "code",
      "metadata": {
        "colab": {
          "base_uri": "https://localhost:8080/"
        },
        "id": "aTC2_L-vcbpX",
        "outputId": "127e7aef-cc07-4174-ce40-e632bf5fff1a"
      },
      "source": [
        "print(f\"Olá, {nome}, com base no seu perfil, achamos que você iria gostar dos seguintes cursos:\")\n",
        "\n",
        "for cat in categorias_selecionadas:\n",
        "  print(f\"{cat}:\")\n",
        "  for linha in range(len(cursos)):\n",
        "    if gratuidade [linha] or mostrar_premium:\n",
        "     if (cat.lower() in categorias_do_curso[linha]\n",
        "        and tempos[linha] <= tempo):\n",
        "      print(f\"- {cursos[linha]}({tempos[linha]} min)\")"
      ],
      "execution_count": null,
      "outputs": [
        {
          "output_type": "stream",
          "name": "stdout",
          "text": [
            "Olá, Lipe, com base no seu perfil, achamos que você iria gostar dos seguintes cursos:\n",
            "WORDPRESS:\n",
            "- Wordpress(95 min)\n",
            "- E-commerce(35 min)\n",
            "- Programação(160 min)\n",
            "CRIAÇÃO DE CONTEÚDO:\n",
            "- Youtube(85 min)\n",
            "GOOGLE ADS:\n",
            "- Vendas(75 min)\n",
            "- Google Ads(150 min)\n",
            "- Criação de Conteúdo(335 min)\n",
            "MARKETING DIGITAL:\n",
            "- Marketing Digital(85 min)\n",
            "- Vendas(75 min)\n",
            "- Google Ads(150 min)\n",
            "- Criação de Conteúdo(335 min)\n"
          ]
        }
      ]
    }
  ]
}